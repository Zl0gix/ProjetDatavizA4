{
 "cells": [
  {
   "cell_type": "code",
   "execution_count": 1,
   "metadata": {},
   "outputs": [],
   "source": [
    "import pandas as pd\n",
    "import numpy as np\n",
    "import joblib\n",
    "df = pd.read_csv(\"Backend/dataset/diabetic_data.csv\")"
   ]
  },
  {
   "cell_type": "code",
   "execution_count": 2,
   "metadata": {},
   "outputs": [
    {
     "data": {
      "text/plain": [
       "weight                        3197\n",
       "max_glu_serum                 5346\n",
       "A1Cresult                    17018\n",
       "medical_specialty            51817\n",
       "payer_code                   61510\n",
       "race                         99493\n",
       "diag_3                      100343\n",
       "diag_2                      101408\n",
       "diag_1                      101745\n",
       "encounter_id                101766\n",
       "glyburide                   101766\n",
       "tolbutamide                 101766\n",
       "pioglitazone                101766\n",
       "rosiglitazone               101766\n",
       "acarbose                    101766\n",
       "miglitol                    101766\n",
       "tolazamide                  101766\n",
       "glipizide                   101766\n",
       "examide                     101766\n",
       "citoglipton                 101766\n",
       "insulin                     101766\n",
       "glyburide-metformin         101766\n",
       "glipizide-metformin         101766\n",
       "glimepiride-pioglitazone    101766\n",
       "metformin-rosiglitazone     101766\n",
       "metformin-pioglitazone      101766\n",
       "change                      101766\n",
       "troglitazone                101766\n",
       "acetohexamide               101766\n",
       "metformin                   101766\n",
       "chlorpropamide              101766\n",
       "patient_nbr                 101766\n",
       "gender                      101766\n",
       "age                         101766\n",
       "admission_type_id           101766\n",
       "discharge_disposition_id    101766\n",
       "admission_source_id         101766\n",
       "time_in_hospital            101766\n",
       "num_lab_procedures          101766\n",
       "num_procedures              101766\n",
       "num_medications             101766\n",
       "number_outpatient           101766\n",
       "number_emergency            101766\n",
       "number_inpatient            101766\n",
       "number_diagnoses            101766\n",
       "diabetesMed                 101766\n",
       "repaglinide                 101766\n",
       "nateglinide                 101766\n",
       "glimepiride                 101766\n",
       "readmitted                  101766\n",
       "dtype: int64"
      ]
     },
     "execution_count": 2,
     "metadata": {},
     "output_type": "execute_result"
    }
   ],
   "source": [
    "df = df.replace(\"?\", np.nan).replace(\"None\", np.nan)\n",
    "df.count().sort_values()"
   ]
  },
  {
   "cell_type": "markdown",
   "metadata": {},
   "source": [
    "After a quick verification of the values, we see that \"weight\" and \"max_glu_serum\" are not enough filled to be considered that useful with the size of the dataframe (3% and 5%filled)\n",
    "We also decided to remove the columns \"payer_code\" and \"encounter_id\" since they do not provide information correlated with a possibility of readmission"
   ]
  },
  {
   "cell_type": "code",
   "execution_count": 3,
   "metadata": {},
   "outputs": [],
   "source": [
    "df = df.drop(columns=[\"weight\", \"max_glu_serum\", \"payer_code\", \"encounter_id\"])\n",
    "df[\"readmitted\"].replace({\">30\": 0, \"NO\": 0, \"<30\": 1}, inplace=True)\n",
    "\n",
    "treatments = [\n",
    "    \"metformin\", \n",
    "    \"repaglinide\", \n",
    "    \"nateglinide\", \n",
    "    \"chlorpropamide\", \n",
    "    \"glimepiride\", \n",
    "    \"acetohexamide\", \n",
    "    \"glipizide\", \n",
    "    \"glyburide\", \n",
    "    \"tolbutamide\", \n",
    "    \"pioglitazone\", \n",
    "    \"rosiglitazone\", \n",
    "    \"acarbose\", \n",
    "    \"miglitol\", \n",
    "    \"troglitazone\", \n",
    "    \"tolazamide\", \n",
    "    \"examide\", \n",
    "    \"citoglipton\", #stiagliptin\n",
    "    \"insulin\", \n",
    "    \"glyburide-metformin\", \n",
    "    \"glipizide-metformin\", \n",
    "    \"glimepiride-pioglitazone\", \n",
    "    \"metformin-rosiglitazone\", \n",
    "    \"metformin-pioglitazone\"\n",
    "]"
   ]
  },
  {
   "cell_type": "code",
   "execution_count": 4,
   "metadata": {},
   "outputs": [
    {
     "data": {
      "text/plain": [
       "6"
      ]
     },
     "execution_count": 4,
     "metadata": {},
     "output_type": "execute_result"
    }
   ],
   "source": [
    "trt_list = df[treatments].to_dict(orient='records')\n",
    "max_trt = 0\n",
    "for line in trt_list:\n",
    "    temp = 0\n",
    "    for treatment in line:\n",
    "        if line[treatment] != 'No':\n",
    "            temp+=1\n",
    "    if temp > max_trt:\n",
    "        max_trt = temp\n",
    "max_trt\n",
    "    "
   ]
  },
  {
   "cell_type": "markdown",
   "metadata": {},
   "source": [
    "There seems to be at maximum 6 treatments given per person so we will create a simplified dataframe with columns \"T1\" to \"T6\" to be more readable"
   ]
  },
  {
   "cell_type": "code",
   "execution_count": 5,
   "metadata": {},
   "outputs": [
    {
     "data": {
      "text/html": [
       "<div>\n",
       "<style scoped>\n",
       "    .dataframe tbody tr th:only-of-type {\n",
       "        vertical-align: middle;\n",
       "    }\n",
       "\n",
       "    .dataframe tbody tr th {\n",
       "        vertical-align: top;\n",
       "    }\n",
       "\n",
       "    .dataframe thead th {\n",
       "        text-align: right;\n",
       "    }\n",
       "</style>\n",
       "<table border=\"1\" class=\"dataframe\">\n",
       "  <thead>\n",
       "    <tr style=\"text-align: right;\">\n",
       "      <th></th>\n",
       "      <th>patient_nbr</th>\n",
       "      <th>race</th>\n",
       "      <th>gender</th>\n",
       "      <th>age</th>\n",
       "      <th>admission_type_id</th>\n",
       "      <th>discharge_disposition_id</th>\n",
       "      <th>admission_source_id</th>\n",
       "      <th>time_in_hospital</th>\n",
       "      <th>medical_specialty</th>\n",
       "      <th>num_lab_procedures</th>\n",
       "      <th>...</th>\n",
       "      <th>A1Cresult</th>\n",
       "      <th>change</th>\n",
       "      <th>diabetesMed</th>\n",
       "      <th>readmitted</th>\n",
       "      <th>T1</th>\n",
       "      <th>T2</th>\n",
       "      <th>T3</th>\n",
       "      <th>T4</th>\n",
       "      <th>T5</th>\n",
       "      <th>T6</th>\n",
       "    </tr>\n",
       "  </thead>\n",
       "  <tbody>\n",
       "    <tr>\n",
       "      <th>0</th>\n",
       "      <td>8222157</td>\n",
       "      <td>Caucasian</td>\n",
       "      <td>Female</td>\n",
       "      <td>[0-10)</td>\n",
       "      <td>6</td>\n",
       "      <td>25</td>\n",
       "      <td>1</td>\n",
       "      <td>1</td>\n",
       "      <td>Pediatrics-Endocrinology</td>\n",
       "      <td>41</td>\n",
       "      <td>...</td>\n",
       "      <td>NaN</td>\n",
       "      <td>No</td>\n",
       "      <td>No</td>\n",
       "      <td>0</td>\n",
       "      <td>NaN</td>\n",
       "      <td>NaN</td>\n",
       "      <td>NaN</td>\n",
       "      <td>NaN</td>\n",
       "      <td>NaN</td>\n",
       "      <td>NaN</td>\n",
       "    </tr>\n",
       "    <tr>\n",
       "      <th>1</th>\n",
       "      <td>55629189</td>\n",
       "      <td>Caucasian</td>\n",
       "      <td>Female</td>\n",
       "      <td>[10-20)</td>\n",
       "      <td>1</td>\n",
       "      <td>1</td>\n",
       "      <td>7</td>\n",
       "      <td>3</td>\n",
       "      <td>NaN</td>\n",
       "      <td>59</td>\n",
       "      <td>...</td>\n",
       "      <td>NaN</td>\n",
       "      <td>Ch</td>\n",
       "      <td>Yes</td>\n",
       "      <td>0</td>\n",
       "      <td>18-Up</td>\n",
       "      <td>NaN</td>\n",
       "      <td>NaN</td>\n",
       "      <td>NaN</td>\n",
       "      <td>NaN</td>\n",
       "      <td>NaN</td>\n",
       "    </tr>\n",
       "    <tr>\n",
       "      <th>2</th>\n",
       "      <td>86047875</td>\n",
       "      <td>AfricanAmerican</td>\n",
       "      <td>Female</td>\n",
       "      <td>[20-30)</td>\n",
       "      <td>1</td>\n",
       "      <td>1</td>\n",
       "      <td>7</td>\n",
       "      <td>2</td>\n",
       "      <td>NaN</td>\n",
       "      <td>11</td>\n",
       "      <td>...</td>\n",
       "      <td>NaN</td>\n",
       "      <td>No</td>\n",
       "      <td>Yes</td>\n",
       "      <td>0</td>\n",
       "      <td>7-Steady</td>\n",
       "      <td>NaN</td>\n",
       "      <td>NaN</td>\n",
       "      <td>NaN</td>\n",
       "      <td>NaN</td>\n",
       "      <td>NaN</td>\n",
       "    </tr>\n",
       "    <tr>\n",
       "      <th>3</th>\n",
       "      <td>82442376</td>\n",
       "      <td>Caucasian</td>\n",
       "      <td>Male</td>\n",
       "      <td>[30-40)</td>\n",
       "      <td>1</td>\n",
       "      <td>1</td>\n",
       "      <td>7</td>\n",
       "      <td>2</td>\n",
       "      <td>NaN</td>\n",
       "      <td>44</td>\n",
       "      <td>...</td>\n",
       "      <td>NaN</td>\n",
       "      <td>Ch</td>\n",
       "      <td>Yes</td>\n",
       "      <td>0</td>\n",
       "      <td>18-Up</td>\n",
       "      <td>NaN</td>\n",
       "      <td>NaN</td>\n",
       "      <td>NaN</td>\n",
       "      <td>NaN</td>\n",
       "      <td>NaN</td>\n",
       "    </tr>\n",
       "    <tr>\n",
       "      <th>4</th>\n",
       "      <td>42519267</td>\n",
       "      <td>Caucasian</td>\n",
       "      <td>Male</td>\n",
       "      <td>[40-50)</td>\n",
       "      <td>1</td>\n",
       "      <td>1</td>\n",
       "      <td>7</td>\n",
       "      <td>1</td>\n",
       "      <td>NaN</td>\n",
       "      <td>51</td>\n",
       "      <td>...</td>\n",
       "      <td>NaN</td>\n",
       "      <td>Ch</td>\n",
       "      <td>Yes</td>\n",
       "      <td>0</td>\n",
       "      <td>7-Steady</td>\n",
       "      <td>18-Steady</td>\n",
       "      <td>NaN</td>\n",
       "      <td>NaN</td>\n",
       "      <td>NaN</td>\n",
       "      <td>NaN</td>\n",
       "    </tr>\n",
       "    <tr>\n",
       "      <th>...</th>\n",
       "      <td>...</td>\n",
       "      <td>...</td>\n",
       "      <td>...</td>\n",
       "      <td>...</td>\n",
       "      <td>...</td>\n",
       "      <td>...</td>\n",
       "      <td>...</td>\n",
       "      <td>...</td>\n",
       "      <td>...</td>\n",
       "      <td>...</td>\n",
       "      <td>...</td>\n",
       "      <td>...</td>\n",
       "      <td>...</td>\n",
       "      <td>...</td>\n",
       "      <td>...</td>\n",
       "      <td>...</td>\n",
       "      <td>...</td>\n",
       "      <td>...</td>\n",
       "      <td>...</td>\n",
       "      <td>...</td>\n",
       "      <td>...</td>\n",
       "    </tr>\n",
       "    <tr>\n",
       "      <th>101761</th>\n",
       "      <td>100162476</td>\n",
       "      <td>AfricanAmerican</td>\n",
       "      <td>Male</td>\n",
       "      <td>[70-80)</td>\n",
       "      <td>1</td>\n",
       "      <td>3</td>\n",
       "      <td>7</td>\n",
       "      <td>3</td>\n",
       "      <td>NaN</td>\n",
       "      <td>51</td>\n",
       "      <td>...</td>\n",
       "      <td>&gt;8</td>\n",
       "      <td>Ch</td>\n",
       "      <td>Yes</td>\n",
       "      <td>0</td>\n",
       "      <td>1-Steady</td>\n",
       "      <td>18-Down</td>\n",
       "      <td>NaN</td>\n",
       "      <td>NaN</td>\n",
       "      <td>NaN</td>\n",
       "      <td>NaN</td>\n",
       "    </tr>\n",
       "    <tr>\n",
       "      <th>101762</th>\n",
       "      <td>74694222</td>\n",
       "      <td>AfricanAmerican</td>\n",
       "      <td>Female</td>\n",
       "      <td>[80-90)</td>\n",
       "      <td>1</td>\n",
       "      <td>4</td>\n",
       "      <td>5</td>\n",
       "      <td>5</td>\n",
       "      <td>NaN</td>\n",
       "      <td>33</td>\n",
       "      <td>...</td>\n",
       "      <td>NaN</td>\n",
       "      <td>No</td>\n",
       "      <td>Yes</td>\n",
       "      <td>0</td>\n",
       "      <td>18-Steady</td>\n",
       "      <td>NaN</td>\n",
       "      <td>NaN</td>\n",
       "      <td>NaN</td>\n",
       "      <td>NaN</td>\n",
       "      <td>NaN</td>\n",
       "    </tr>\n",
       "    <tr>\n",
       "      <th>101763</th>\n",
       "      <td>41088789</td>\n",
       "      <td>Caucasian</td>\n",
       "      <td>Male</td>\n",
       "      <td>[70-80)</td>\n",
       "      <td>1</td>\n",
       "      <td>1</td>\n",
       "      <td>7</td>\n",
       "      <td>1</td>\n",
       "      <td>NaN</td>\n",
       "      <td>53</td>\n",
       "      <td>...</td>\n",
       "      <td>NaN</td>\n",
       "      <td>Ch</td>\n",
       "      <td>Yes</td>\n",
       "      <td>0</td>\n",
       "      <td>1-Steady</td>\n",
       "      <td>18-Down</td>\n",
       "      <td>NaN</td>\n",
       "      <td>NaN</td>\n",
       "      <td>NaN</td>\n",
       "      <td>NaN</td>\n",
       "    </tr>\n",
       "    <tr>\n",
       "      <th>101764</th>\n",
       "      <td>31693671</td>\n",
       "      <td>Caucasian</td>\n",
       "      <td>Female</td>\n",
       "      <td>[80-90)</td>\n",
       "      <td>2</td>\n",
       "      <td>3</td>\n",
       "      <td>7</td>\n",
       "      <td>10</td>\n",
       "      <td>Surgery-General</td>\n",
       "      <td>45</td>\n",
       "      <td>...</td>\n",
       "      <td>NaN</td>\n",
       "      <td>Ch</td>\n",
       "      <td>Yes</td>\n",
       "      <td>0</td>\n",
       "      <td>7-Steady</td>\n",
       "      <td>10-Steady</td>\n",
       "      <td>18-Up</td>\n",
       "      <td>NaN</td>\n",
       "      <td>NaN</td>\n",
       "      <td>NaN</td>\n",
       "    </tr>\n",
       "    <tr>\n",
       "      <th>101765</th>\n",
       "      <td>175429310</td>\n",
       "      <td>Caucasian</td>\n",
       "      <td>Male</td>\n",
       "      <td>[70-80)</td>\n",
       "      <td>1</td>\n",
       "      <td>1</td>\n",
       "      <td>7</td>\n",
       "      <td>6</td>\n",
       "      <td>NaN</td>\n",
       "      <td>13</td>\n",
       "      <td>...</td>\n",
       "      <td>NaN</td>\n",
       "      <td>No</td>\n",
       "      <td>No</td>\n",
       "      <td>0</td>\n",
       "      <td>NaN</td>\n",
       "      <td>NaN</td>\n",
       "      <td>NaN</td>\n",
       "      <td>NaN</td>\n",
       "      <td>NaN</td>\n",
       "      <td>NaN</td>\n",
       "    </tr>\n",
       "  </tbody>\n",
       "</table>\n",
       "<p>101766 rows × 29 columns</p>\n",
       "</div>"
      ],
      "text/plain": [
       "        patient_nbr             race  gender      age  admission_type_id  \\\n",
       "0           8222157        Caucasian  Female   [0-10)                  6   \n",
       "1          55629189        Caucasian  Female  [10-20)                  1   \n",
       "2          86047875  AfricanAmerican  Female  [20-30)                  1   \n",
       "3          82442376        Caucasian    Male  [30-40)                  1   \n",
       "4          42519267        Caucasian    Male  [40-50)                  1   \n",
       "...             ...              ...     ...      ...                ...   \n",
       "101761    100162476  AfricanAmerican    Male  [70-80)                  1   \n",
       "101762     74694222  AfricanAmerican  Female  [80-90)                  1   \n",
       "101763     41088789        Caucasian    Male  [70-80)                  1   \n",
       "101764     31693671        Caucasian  Female  [80-90)                  2   \n",
       "101765    175429310        Caucasian    Male  [70-80)                  1   \n",
       "\n",
       "        discharge_disposition_id  admission_source_id  time_in_hospital  \\\n",
       "0                             25                    1                 1   \n",
       "1                              1                    7                 3   \n",
       "2                              1                    7                 2   \n",
       "3                              1                    7                 2   \n",
       "4                              1                    7                 1   \n",
       "...                          ...                  ...               ...   \n",
       "101761                         3                    7                 3   \n",
       "101762                         4                    5                 5   \n",
       "101763                         1                    7                 1   \n",
       "101764                         3                    7                10   \n",
       "101765                         1                    7                 6   \n",
       "\n",
       "               medical_specialty  num_lab_procedures  ...  A1Cresult  change  \\\n",
       "0       Pediatrics-Endocrinology                  41  ...        NaN      No   \n",
       "1                            NaN                  59  ...        NaN      Ch   \n",
       "2                            NaN                  11  ...        NaN      No   \n",
       "3                            NaN                  44  ...        NaN      Ch   \n",
       "4                            NaN                  51  ...        NaN      Ch   \n",
       "...                          ...                 ...  ...        ...     ...   \n",
       "101761                       NaN                  51  ...         >8      Ch   \n",
       "101762                       NaN                  33  ...        NaN      No   \n",
       "101763                       NaN                  53  ...        NaN      Ch   \n",
       "101764           Surgery-General                  45  ...        NaN      Ch   \n",
       "101765                       NaN                  13  ...        NaN      No   \n",
       "\n",
       "        diabetesMed  readmitted         T1         T2     T3   T4   T5   T6  \n",
       "0                No           0        NaN        NaN    NaN  NaN  NaN  NaN  \n",
       "1               Yes           0      18-Up        NaN    NaN  NaN  NaN  NaN  \n",
       "2               Yes           0   7-Steady        NaN    NaN  NaN  NaN  NaN  \n",
       "3               Yes           0      18-Up        NaN    NaN  NaN  NaN  NaN  \n",
       "4               Yes           0   7-Steady  18-Steady    NaN  NaN  NaN  NaN  \n",
       "...             ...         ...        ...        ...    ...  ...  ...  ...  \n",
       "101761          Yes           0   1-Steady    18-Down    NaN  NaN  NaN  NaN  \n",
       "101762          Yes           0  18-Steady        NaN    NaN  NaN  NaN  NaN  \n",
       "101763          Yes           0   1-Steady    18-Down    NaN  NaN  NaN  NaN  \n",
       "101764          Yes           0   7-Steady  10-Steady  18-Up  NaN  NaN  NaN  \n",
       "101765           No           0        NaN        NaN    NaN  NaN  NaN  NaN  \n",
       "\n",
       "[101766 rows x 29 columns]"
      ]
     },
     "execution_count": 5,
     "metadata": {},
     "output_type": "execute_result"
    }
   ],
   "source": [
    "biglist = df.to_dict(orient='records')\n",
    "\n",
    "#result = dict(zip(treatments, [0 for _ in range(len(treatments))]))\n",
    "result = [\n",
    "    [],\n",
    "    [],\n",
    "    [],\n",
    "    [],\n",
    "    [],\n",
    "    [],\n",
    "]\n",
    "\n",
    "for line in biglist:\n",
    "    temp = []\n",
    "    for i, k in enumerate(treatments):\n",
    "        if line[k] != 'No':\n",
    "            temp.append(f\"{i+1}-{line[k]}\")\n",
    "    for i, code in enumerate(temp + [np.nan for _ in range(6-len(temp))]):\n",
    "        result[i].append(code)\n",
    "\n",
    "df2 = df.drop(columns=treatments)\n",
    "for i in range(6):\n",
    "    df2[f\"T{i+1}\"] = result[i]\n",
    "    \n",
    "df2"
   ]
  },
  {
   "cell_type": "code",
   "execution_count": 6,
   "metadata": {},
   "outputs": [],
   "source": [
    "df2.to_csv(\"Backend/dataset/diabetic_data_filtered.csv\")"
   ]
  },
  {
   "cell_type": "code",
   "execution_count": 7,
   "metadata": {},
   "outputs": [
    {
     "data": {
      "text/plain": [
       "0.4064413243370102"
      ]
     },
     "execution_count": 7,
     "metadata": {},
     "output_type": "execute_result"
    }
   ],
   "source": [
    "import os\n",
    "1-os.path.getsize(\"Backend/dataset/diabetic_data_filtered.csv\")/os.path.getsize(\"Backend/dataset/diabetic_data.csv\")"
   ]
  },
  {
   "cell_type": "markdown",
   "metadata": {},
   "source": [
    "With this first filtering we reduce the size of the dataframe of 40% without losing too much informations"
   ]
  },
  {
   "cell_type": "markdown",
   "metadata": {},
   "source": [
    "# Fréquence apparition traitements"
   ]
  },
  {
   "cell_type": "code",
   "execution_count": 8,
   "metadata": {},
   "outputs": [],
   "source": [
    "def count_treatments(df):\n",
    "    contained=[]\n",
    "    for i in range(1,24):\n",
    "        contain_values = df[(df['T1'].str.contains(str(i)+'-', na=False) & ~df['T1'].str.contains(str(i+10)+'-', na=False)) | (df['T2'].str.contains(str(i)+'-', na=False) & ~df['T2'].str.contains(str(i+10)+'-', na=False)) | (df['T3'].str.contains(str(i)+'-', na=False) & ~df['T3'].str.contains(str(i+10)+'-', na=False)) | (df['T4'].str.contains(str(i)+'-', na=False) & ~df['T4'].str.contains(str(i+10)+'-', na=False)) | (df['T5'].str.contains(str(i)+'-', na=False) & ~df['T5'].str.contains(str(i+10)+'-', na=False)) | (df['T6'].str.contains(str(i)+'-', na=False) & ~df['T6'].str.contains(str(i+10)+'-', na=False))].count()\n",
    "        contained.append(contain_values)\n",
    "    return contained"
   ]
  },
  {
   "cell_type": "code",
   "execution_count": 9,
   "metadata": {},
   "outputs": [],
   "source": [
    "def normalize(list_values, div):\n",
    "    for i in range(len(list_values)):\n",
    "        list_values[i] = list_values[i]*100/div\n",
    "    return list_values"
   ]
  },
  {
   "cell_type": "code",
   "execution_count": 10,
   "metadata": {},
   "outputs": [],
   "source": [
    "freq_treatments = normalize(count_treatments(df2),101766)"
   ]
  },
  {
   "cell_type": "markdown",
   "metadata": {},
   "source": [
    "We analyse here what the frequencies of distribution of each treatment is throughout all 6 treatments that can be given to all patients"
   ]
  },
  {
   "cell_type": "code",
   "execution_count": 11,
   "metadata": {},
   "outputs": [
    {
     "data": {
      "text/plain": [
       "<AxesSubplot:>"
      ]
     },
     "execution_count": 11,
     "metadata": {},
     "output_type": "execute_result"
    },
    {
     "data": {
      "image/png": "[encoded data removed]",
      "text/plain": [
       "<Figure size 1080x576 with 1 Axes>"
      ]
     },
     "metadata": {
      "needs_background": "light"
     },
     "output_type": "display_data"
    }
   ],
   "source": [
    "df_freq = pd.DataFrame(freq_treatments, index=[1,2,3,4,5,6,7,8,9,10,11,12,13,14,15,16,17,18,19,20,21,22,23])\n",
    "df_freq = df_freq.rename(columns={\"patient_nbr\": \"Treatments frequencies\"})\n",
    "df_freq = df_freq[\"Treatments frequencies\"]\n",
    "df_freq.plot.bar(rot=0, figsize=(15, 8))"
   ]
  },
  {
   "cell_type": "code",
   "execution_count": 12,
   "metadata": {},
   "outputs": [
    {
     "data": {
      "text/plain": [
       "<AxesSubplot:>"
      ]
     },
     "execution_count": 12,
     "metadata": {},
     "output_type": "execute_result"
    },
    {
     "data": {
      "image/png": "[encoded data removed]",
      "text/plain": [
       "<Figure size 1080x576 with 1 Axes>"
      ]
     },
     "metadata": {
      "needs_background": "light"
     },
     "output_type": "display_data"
    }
   ],
   "source": [
    "def count_treatments1(df):\n",
    "    contained=[]\n",
    "    for i in range(1,24):\n",
    "        contain_values = df[df['T1'].str.contains(str(i)+'-', na=False) & ~df['T1'].str.contains(str(i+10)+'-', na=False)].count() \n",
    "        contained.append(contain_values)\n",
    "    return contained\n",
    "\n",
    "freq_treatments1 = normalize(count_treatments1(df2[[\"patient_nbr\",\"T1\"]]),101766)\n",
    "df_freq1 = pd.DataFrame(freq_treatments1, index=[1,2,3,4,5,6,7,8,9,10,11,12,13,14,15,16,17,18,19,20,21,22,23])\n",
    "df_freq1= df_freq1['patient_nbr']\n",
    "df_freq1.plot.bar(rot=0, figsize=(15, 8))"
   ]
  },
  {
   "cell_type": "markdown",
   "metadata": {},
   "source": [
    "The treatments 1 and 18 are way more present than any other one as a first treatment for diabete"
   ]
  },
  {
   "cell_type": "code",
   "execution_count": 13,
   "metadata": {},
   "outputs": [
    {
     "data": {
      "text/plain": [
       "<AxesSubplot:>"
      ]
     },
     "execution_count": 13,
     "metadata": {},
     "output_type": "execute_result"
    },
    {
     "data": {
      "image/png": "[encoded data removed]",
      "text/plain": [
       "<Figure size 1080x576 with 1 Axes>"
      ]
     },
     "metadata": {
      "needs_background": "light"
     },
     "output_type": "display_data"
    }
   ],
   "source": [
    "def count_treatments2(df):\n",
    "    contained=[]\n",
    "    for i in range(1,24):\n",
    "        contain_values = df[df['T2'].str.contains(str(i)+'-', na=False) & ~df['T2'].str.contains(str(i+10)+'-', na=False)].count() \n",
    "        contained.append(contain_values)\n",
    "    return contained\n",
    "\n",
    "freq_treatments2 = normalize(count_treatments2(df2[[\"patient_nbr\",\"T2\"]]),101766)\n",
    "df_freq2 = pd.DataFrame(freq_treatments2, index=[1,2,3,4,5,6,7,8,9,10,11,12,13,14,15,16,17,18,19,20,21,22,23])\n",
    "df_freq2= df_freq2['patient_nbr']\n",
    "df_freq2.plot.bar(rot=0, figsize=(15, 8))"
   ]
  },
  {
   "cell_type": "markdown",
   "metadata": {},
   "source": [
    "However the treatment 1 disappear as soon as the second treatment, the treatment 18 staying on top"
   ]
  },
  {
   "cell_type": "code",
   "execution_count": 14,
   "metadata": {},
   "outputs": [
    {
     "data": {
      "text/plain": [
       "<AxesSubplot:>"
      ]
     },
     "execution_count": 14,
     "metadata": {},
     "output_type": "execute_result"
    },
    {
     "data": {
      "image/png": "[encoded data removed]",
      "text/plain": [
       "<Figure size 1080x576 with 1 Axes>"
      ]
     },
     "metadata": {
      "needs_background": "light"
     },
     "output_type": "display_data"
    }
   ],
   "source": [
    "def count_treatments3(df):\n",
    "    contained=[]\n",
    "    for i in range(1,24):\n",
    "        contain_values = df[df['T3'].str.contains(str(i)+'-', na=False) & ~df['T3'].str.contains(str(i+10)+'-', na=False)].count() \n",
    "        contained.append(contain_values)\n",
    "    return contained\n",
    "\n",
    "freq_treatments3 = normalize(count_treatments3(df2[[\"patient_nbr\",\"T3\"]]),101766)\n",
    "df_freq3 = pd.DataFrame(freq_treatments3, index=[1,2,3,4,5,6,7,8,9,10,11,12,13,14,15,16,17,18,19,20,21,22,23])\n",
    "df_freq3= df_freq3['patient_nbr']\n",
    "df_freq3.plot.bar(rot=0, figsize=(15, 8))"
   ]
  },
  {
   "cell_type": "markdown",
   "metadata": {},
   "source": [
    "The treatment 18 stays on top"
   ]
  },
  {
   "cell_type": "code",
   "execution_count": 15,
   "metadata": {},
   "outputs": [
    {
     "data": {
      "text/plain": [
       "<AxesSubplot:>"
      ]
     },
     "execution_count": 15,
     "metadata": {},
     "output_type": "execute_result"
    },
    {
     "data": {
      "image/png": "[encoded data removed]",
      "text/plain": [
       "<Figure size 1080x576 with 1 Axes>"
      ]
     },
     "metadata": {
      "needs_background": "light"
     },
     "output_type": "display_data"
    }
   ],
   "source": [
    "def count_treatments4(df):\n",
    "    contained=[]\n",
    "    for i in range(1,24):\n",
    "        contain_values = df[df['T4'].str.contains(str(i)+'-', na=False) & ~df['T4'].str.contains(str(i+10)+'-', na=False)].count() \n",
    "        contained.append(contain_values)\n",
    "    return contained\n",
    "\n",
    "freq_treatments4 = normalize(count_treatments4(df2[[\"patient_nbr\",\"T4\"]]),101766)\n",
    "df_freq4 = pd.DataFrame(freq_treatments4, index=[1,2,3,4,5,6,7,8,9,10,11,12,13,14,15,16,17,18,19,20,21,22,23])\n",
    "df_freq4 = df_freq4['patient_nbr']\n",
    "df_freq4.plot.bar(rot=0, figsize=(15, 8))"
   ]
  },
  {
   "cell_type": "code",
   "execution_count": 16,
   "metadata": {},
   "outputs": [
    {
     "data": {
      "text/plain": [
       "<AxesSubplot:>"
      ]
     },
     "execution_count": 16,
     "metadata": {},
     "output_type": "execute_result"
    },
    {
     "data": {
      "image/png": "[encoded data removed]",
      "text/plain": [
       "<Figure size 1080x576 with 1 Axes>"
      ]
     },
     "metadata": {
      "needs_background": "light"
     },
     "output_type": "display_data"
    }
   ],
   "source": [
    "def count_treatments5(df):\n",
    "    contained=[]\n",
    "    for i in range(1,24):\n",
    "        contain_values = df[df['T5'].str.contains(str(i)+'-', na=False) & ~df['T5'].str.contains(str(i+10)+'-', na=False)].count() \n",
    "        contained.append(contain_values)\n",
    "    return contained\n",
    "\n",
    "freq_treatments5 = normalize(count_treatments5(df2[[\"patient_nbr\",\"T5\"]]),101766)\n",
    "df_freq5 = pd.DataFrame(freq_treatments5, index=[1,2,3,4,5,6,7,8,9,10,11,12,13,14,15,16,17,18,19,20,21,22,23])\n",
    "df_freq5= df_freq5['patient_nbr']\n",
    "df_freq5.plot.bar(rot=0, figsize=(15, 8))"
   ]
  },
  {
   "cell_type": "code",
   "execution_count": 17,
   "metadata": {
    "scrolled": true
   },
   "outputs": [
    {
     "data": {
      "text/plain": [
       "<AxesSubplot:>"
      ]
     },
     "execution_count": 17,
     "metadata": {},
     "output_type": "execute_result"
    },
    {
     "data": {
      "image/png": "[encoded data removed]",
      "text/plain": [
       "<Figure size 1080x576 with 1 Axes>"
      ]
     },
     "metadata": {
      "needs_background": "light"
     },
     "output_type": "display_data"
    }
   ],
   "source": [
    "def count_treatments6(df):\n",
    "    contained=[]\n",
    "    for i in range(1,24):\n",
    "        contain_values = df[df['T6'].str.contains(str(i)+'-', na=False) & ~df['T6'].str.contains(str(i+10)+'-', na=False)].count() \n",
    "        contained.append(contain_values)\n",
    "    return contained\n",
    "\n",
    "freq_treatments6 = normalize(count_treatments6(df2[[\"patient_nbr\",\"T6\"]]),101766)\n",
    "df_freq6 = pd.DataFrame(freq_treatments6, index=[1,2,3,4,5,6,7,8,9,10,11,12,13,14,15,16,17,18,19,20,21,22,23])\n",
    "df_freq6= df_freq6['patient_nbr']\n",
    "df_freq6.plot.bar(rot=0, figsize=(15, 8))"
   ]
  },
  {
   "cell_type": "markdown",
   "metadata": {},
   "source": [
    "In the end, the treatment 18 stays dominant through all 6 tratments. The fact that it is the insulin explains its omnipresence, as it is the hormone diabetes people are missing and need the most, which make it the primary treatment.\n",
    "\n",
    "We are now gonna check what treatment can complement it "
   ]
  },
  {
   "cell_type": "code",
   "execution_count": 18,
   "metadata": {},
   "outputs": [
    {
     "data": {
      "text/plain": [
       "<AxesSubplot:xlabel='T2'>"
      ]
     },
     "execution_count": 18,
     "metadata": {},
     "output_type": "execute_result"
    },
    {
     "data": {
      "image/png": "[encoded data removed]",
      "text/plain": [
       "<Figure size 1080x576 with 1 Axes>"
      ]
     },
     "metadata": {
      "needs_background": "light"
     },
     "output_type": "display_data"
    },
    {
     "data": {
      "image/png": "[encoded data removed]",
      "text/plain": [
       "<Figure size 1080x576 with 1 Axes>"
      ]
     },
     "metadata": {
      "needs_background": "light"
     },
     "output_type": "display_data"
    },
    {
     "data": {
      "image/png": "[encoded data removed]",
      "text/plain": [
       "<Figure size 1080x576 with 1 Axes>"
      ]
     },
     "metadata": {
      "needs_background": "light"
     },
     "output_type": "display_data"
    }
   ],
   "source": [
    "df_t18 = pd.DataFrame(df2[df2['T1'].str.contains('18', na=False)])\n",
    "df_t18 = df_t18[[\"patient_nbr\",\"T1\",\"T2\",\"T3\",\"T4\",\"T5\",\"T6\"]]\n",
    "df_t18.groupby(\"T1\").count()\n",
    "\n",
    "df_t18_steady = df_t18[df_t18['T1'].str.contains('Steady', na=False)]\n",
    "df_t18_steady = df_t18_steady[[\"T1\",\"T2\"]].groupby(\"T2\").count()\n",
    "df_t18_steady.plot.bar(rot=0, figsize=(15, 8))\n",
    "\n",
    "df_t18_up = df_t18[df_t18['T1'].str.contains('Up', na=False)]\n",
    "df_t18_up = df_t18_up[[\"T1\",\"T2\"]].groupby(\"T2\").count()\n",
    "df_t18_up.plot.bar(rot=0, figsize=(15, 8))\n",
    "\n",
    "df_t18_down = df_t18[df_t18['T1'].str.contains('Down', na=False)]\n",
    "df_t18_down = df_t18_down[[\"T1\",\"T2\"]].groupby(\"T2\").count()\n",
    "df_t18_down.plot.bar(rot=0, figsize=(15, 8))"
   ]
  },
  {
   "cell_type": "markdown",
   "metadata": {},
   "source": [
    "We can see that the only treatments given to someone to complement insulin are the treatments 19, 20, 21 and 22. "
   ]
  },
  {
   "cell_type": "markdown",
   "metadata": {},
   "source": [
    "# Traitement age\n"
   ]
  },
  {
   "cell_type": "code",
   "execution_count": 19,
   "metadata": {
    "scrolled": true
   },
   "outputs": [
    {
     "data": {
      "text/html": [
       "<div>\n",
       "<style scoped>\n",
       "    .dataframe tbody tr th:only-of-type {\n",
       "        vertical-align: middle;\n",
       "    }\n",
       "\n",
       "    .dataframe tbody tr th {\n",
       "        vertical-align: top;\n",
       "    }\n",
       "\n",
       "    .dataframe thead th {\n",
       "        text-align: right;\n",
       "    }\n",
       "</style>\n",
       "<table border=\"1\" class=\"dataframe\">\n",
       "  <thead>\n",
       "    <tr style=\"text-align: right;\">\n",
       "      <th></th>\n",
       "      <th>patient_nbr</th>\n",
       "      <th>age</th>\n",
       "      <th>T1</th>\n",
       "      <th>T2</th>\n",
       "      <th>T3</th>\n",
       "      <th>T4</th>\n",
       "      <th>T5</th>\n",
       "      <th>T6</th>\n",
       "      <th>readmitted</th>\n",
       "    </tr>\n",
       "  </thead>\n",
       "  <tbody>\n",
       "    <tr>\n",
       "      <th>0</th>\n",
       "      <td>8222157</td>\n",
       "      <td>[0-10)</td>\n",
       "      <td>NaN</td>\n",
       "      <td>NaN</td>\n",
       "      <td>NaN</td>\n",
       "      <td>NaN</td>\n",
       "      <td>NaN</td>\n",
       "      <td>NaN</td>\n",
       "      <td>0</td>\n",
       "    </tr>\n",
       "    <tr>\n",
       "      <th>1</th>\n",
       "      <td>55629189</td>\n",
       "      <td>[10-20)</td>\n",
       "      <td>18-Up</td>\n",
       "      <td>NaN</td>\n",
       "      <td>NaN</td>\n",
       "      <td>NaN</td>\n",
       "      <td>NaN</td>\n",
       "      <td>NaN</td>\n",
       "      <td>0</td>\n",
       "    </tr>\n",
       "    <tr>\n",
       "      <th>2</th>\n",
       "      <td>86047875</td>\n",
       "      <td>[20-30)</td>\n",
       "      <td>7-Steady</td>\n",
       "      <td>NaN</td>\n",
       "      <td>NaN</td>\n",
       "      <td>NaN</td>\n",
       "      <td>NaN</td>\n",
       "      <td>NaN</td>\n",
       "      <td>0</td>\n",
       "    </tr>\n",
       "    <tr>\n",
       "      <th>3</th>\n",
       "      <td>82442376</td>\n",
       "      <td>[30-40)</td>\n",
       "      <td>18-Up</td>\n",
       "      <td>NaN</td>\n",
       "      <td>NaN</td>\n",
       "      <td>NaN</td>\n",
       "      <td>NaN</td>\n",
       "      <td>NaN</td>\n",
       "      <td>0</td>\n",
       "    </tr>\n",
       "    <tr>\n",
       "      <th>4</th>\n",
       "      <td>42519267</td>\n",
       "      <td>[40-50)</td>\n",
       "      <td>7-Steady</td>\n",
       "      <td>18-Steady</td>\n",
       "      <td>NaN</td>\n",
       "      <td>NaN</td>\n",
       "      <td>NaN</td>\n",
       "      <td>NaN</td>\n",
       "      <td>0</td>\n",
       "    </tr>\n",
       "    <tr>\n",
       "      <th>...</th>\n",
       "      <td>...</td>\n",
       "      <td>...</td>\n",
       "      <td>...</td>\n",
       "      <td>...</td>\n",
       "      <td>...</td>\n",
       "      <td>...</td>\n",
       "      <td>...</td>\n",
       "      <td>...</td>\n",
       "      <td>...</td>\n",
       "    </tr>\n",
       "    <tr>\n",
       "      <th>101761</th>\n",
       "      <td>100162476</td>\n",
       "      <td>[70-80)</td>\n",
       "      <td>1-Steady</td>\n",
       "      <td>18-Down</td>\n",
       "      <td>NaN</td>\n",
       "      <td>NaN</td>\n",
       "      <td>NaN</td>\n",
       "      <td>NaN</td>\n",
       "      <td>0</td>\n",
       "    </tr>\n",
       "    <tr>\n",
       "      <th>101762</th>\n",
       "      <td>74694222</td>\n",
       "      <td>[80-90)</td>\n",
       "      <td>18-Steady</td>\n",
       "      <td>NaN</td>\n",
       "      <td>NaN</td>\n",
       "      <td>NaN</td>\n",
       "      <td>NaN</td>\n",
       "      <td>NaN</td>\n",
       "      <td>0</td>\n",
       "    </tr>\n",
       "    <tr>\n",
       "      <th>101763</th>\n",
       "      <td>41088789</td>\n",
       "      <td>[70-80)</td>\n",
       "      <td>1-Steady</td>\n",
       "      <td>18-Down</td>\n",
       "      <td>NaN</td>\n",
       "      <td>NaN</td>\n",
       "      <td>NaN</td>\n",
       "      <td>NaN</td>\n",
       "      <td>0</td>\n",
       "    </tr>\n",
       "    <tr>\n",
       "      <th>101764</th>\n",
       "      <td>31693671</td>\n",
       "      <td>[80-90)</td>\n",
       "      <td>7-Steady</td>\n",
       "      <td>10-Steady</td>\n",
       "      <td>18-Up</td>\n",
       "      <td>NaN</td>\n",
       "      <td>NaN</td>\n",
       "      <td>NaN</td>\n",
       "      <td>0</td>\n",
       "    </tr>\n",
       "    <tr>\n",
       "      <th>101765</th>\n",
       "      <td>175429310</td>\n",
       "      <td>[70-80)</td>\n",
       "      <td>NaN</td>\n",
       "      <td>NaN</td>\n",
       "      <td>NaN</td>\n",
       "      <td>NaN</td>\n",
       "      <td>NaN</td>\n",
       "      <td>NaN</td>\n",
       "      <td>0</td>\n",
       "    </tr>\n",
       "  </tbody>\n",
       "</table>\n",
       "<p>101766 rows × 9 columns</p>\n",
       "</div>"
      ],
      "text/plain": [
       "        patient_nbr      age         T1         T2     T3   T4   T5   T6  \\\n",
       "0           8222157   [0-10)        NaN        NaN    NaN  NaN  NaN  NaN   \n",
       "1          55629189  [10-20)      18-Up        NaN    NaN  NaN  NaN  NaN   \n",
       "2          86047875  [20-30)   7-Steady        NaN    NaN  NaN  NaN  NaN   \n",
       "3          82442376  [30-40)      18-Up        NaN    NaN  NaN  NaN  NaN   \n",
       "4          42519267  [40-50)   7-Steady  18-Steady    NaN  NaN  NaN  NaN   \n",
       "...             ...      ...        ...        ...    ...  ...  ...  ...   \n",
       "101761    100162476  [70-80)   1-Steady    18-Down    NaN  NaN  NaN  NaN   \n",
       "101762     74694222  [80-90)  18-Steady        NaN    NaN  NaN  NaN  NaN   \n",
       "101763     41088789  [70-80)   1-Steady    18-Down    NaN  NaN  NaN  NaN   \n",
       "101764     31693671  [80-90)   7-Steady  10-Steady  18-Up  NaN  NaN  NaN   \n",
       "101765    175429310  [70-80)        NaN        NaN    NaN  NaN  NaN  NaN   \n",
       "\n",
       "        readmitted  \n",
       "0                0  \n",
       "1                0  \n",
       "2                0  \n",
       "3                0  \n",
       "4                0  \n",
       "...            ...  \n",
       "101761           0  \n",
       "101762           0  \n",
       "101763           0  \n",
       "101764           0  \n",
       "101765           0  \n",
       "\n",
       "[101766 rows x 9 columns]"
      ]
     },
     "execution_count": 19,
     "metadata": {},
     "output_type": "execute_result"
    }
   ],
   "source": [
    "df_age = df2[[\"patient_nbr\",\"age\",\"T1\",\"T2\",\"T3\",\"T4\",\"T5\",\"T6\",\"readmitted\"]]\n",
    "df_age"
   ]
  },
  {
   "cell_type": "code",
   "execution_count": 20,
   "metadata": {},
   "outputs": [
    {
     "data": {
      "text/html": [
       "<div>\n",
       "<style scoped>\n",
       "    .dataframe tbody tr th:only-of-type {\n",
       "        vertical-align: middle;\n",
       "    }\n",
       "\n",
       "    .dataframe tbody tr th {\n",
       "        vertical-align: top;\n",
       "    }\n",
       "\n",
       "    .dataframe thead th {\n",
       "        text-align: right;\n",
       "    }\n",
       "</style>\n",
       "<table border=\"1\" class=\"dataframe\">\n",
       "  <thead>\n",
       "    <tr style=\"text-align: right;\">\n",
       "      <th></th>\n",
       "      <th>patient_nbr</th>\n",
       "      <th>age</th>\n",
       "      <th>T1</th>\n",
       "      <th>T2</th>\n",
       "      <th>T3</th>\n",
       "      <th>T4</th>\n",
       "      <th>T5</th>\n",
       "      <th>T6</th>\n",
       "      <th>readmitted</th>\n",
       "    </tr>\n",
       "  </thead>\n",
       "  <tbody>\n",
       "    <tr>\n",
       "      <th>3764</th>\n",
       "      <td>3355146</td>\n",
       "      <td>[0-10)</td>\n",
       "      <td>18-Down</td>\n",
       "      <td>NaN</td>\n",
       "      <td>NaN</td>\n",
       "      <td>NaN</td>\n",
       "      <td>NaN</td>\n",
       "      <td>NaN</td>\n",
       "      <td>0</td>\n",
       "    </tr>\n",
       "    <tr>\n",
       "      <th>5861</th>\n",
       "      <td>114570648</td>\n",
       "      <td>[0-10)</td>\n",
       "      <td>18-Down</td>\n",
       "      <td>NaN</td>\n",
       "      <td>NaN</td>\n",
       "      <td>NaN</td>\n",
       "      <td>NaN</td>\n",
       "      <td>NaN</td>\n",
       "      <td>0</td>\n",
       "    </tr>\n",
       "    <tr>\n",
       "      <th>11651</th>\n",
       "      <td>15778395</td>\n",
       "      <td>[0-10)</td>\n",
       "      <td>18-Down</td>\n",
       "      <td>NaN</td>\n",
       "      <td>NaN</td>\n",
       "      <td>NaN</td>\n",
       "      <td>NaN</td>\n",
       "      <td>NaN</td>\n",
       "      <td>0</td>\n",
       "    </tr>\n",
       "    <tr>\n",
       "      <th>13190</th>\n",
       "      <td>18840807</td>\n",
       "      <td>[0-10)</td>\n",
       "      <td>18-Down</td>\n",
       "      <td>NaN</td>\n",
       "      <td>NaN</td>\n",
       "      <td>NaN</td>\n",
       "      <td>NaN</td>\n",
       "      <td>NaN</td>\n",
       "      <td>0</td>\n",
       "    </tr>\n",
       "    <tr>\n",
       "      <th>13578</th>\n",
       "      <td>10799190</td>\n",
       "      <td>[0-10)</td>\n",
       "      <td>18-Down</td>\n",
       "      <td>NaN</td>\n",
       "      <td>NaN</td>\n",
       "      <td>NaN</td>\n",
       "      <td>NaN</td>\n",
       "      <td>NaN</td>\n",
       "      <td>0</td>\n",
       "    </tr>\n",
       "    <tr>\n",
       "      <th>...</th>\n",
       "      <td>...</td>\n",
       "      <td>...</td>\n",
       "      <td>...</td>\n",
       "      <td>...</td>\n",
       "      <td>...</td>\n",
       "      <td>...</td>\n",
       "      <td>...</td>\n",
       "      <td>...</td>\n",
       "      <td>...</td>\n",
       "    </tr>\n",
       "    <tr>\n",
       "      <th>101452</th>\n",
       "      <td>102128841</td>\n",
       "      <td>[90-100)</td>\n",
       "      <td>NaN</td>\n",
       "      <td>NaN</td>\n",
       "      <td>NaN</td>\n",
       "      <td>NaN</td>\n",
       "      <td>NaN</td>\n",
       "      <td>NaN</td>\n",
       "      <td>0</td>\n",
       "    </tr>\n",
       "    <tr>\n",
       "      <th>101582</th>\n",
       "      <td>91148022</td>\n",
       "      <td>[90-100)</td>\n",
       "      <td>NaN</td>\n",
       "      <td>NaN</td>\n",
       "      <td>NaN</td>\n",
       "      <td>NaN</td>\n",
       "      <td>NaN</td>\n",
       "      <td>NaN</td>\n",
       "      <td>1</td>\n",
       "    </tr>\n",
       "    <tr>\n",
       "      <th>101694</th>\n",
       "      <td>79902171</td>\n",
       "      <td>[90-100)</td>\n",
       "      <td>NaN</td>\n",
       "      <td>NaN</td>\n",
       "      <td>NaN</td>\n",
       "      <td>NaN</td>\n",
       "      <td>NaN</td>\n",
       "      <td>NaN</td>\n",
       "      <td>0</td>\n",
       "    </tr>\n",
       "    <tr>\n",
       "      <th>101696</th>\n",
       "      <td>91200537</td>\n",
       "      <td>[90-100)</td>\n",
       "      <td>NaN</td>\n",
       "      <td>NaN</td>\n",
       "      <td>NaN</td>\n",
       "      <td>NaN</td>\n",
       "      <td>NaN</td>\n",
       "      <td>NaN</td>\n",
       "      <td>0</td>\n",
       "    </tr>\n",
       "    <tr>\n",
       "      <th>101741</th>\n",
       "      <td>58160520</td>\n",
       "      <td>[90-100)</td>\n",
       "      <td>NaN</td>\n",
       "      <td>NaN</td>\n",
       "      <td>NaN</td>\n",
       "      <td>NaN</td>\n",
       "      <td>NaN</td>\n",
       "      <td>NaN</td>\n",
       "      <td>0</td>\n",
       "    </tr>\n",
       "  </tbody>\n",
       "</table>\n",
       "<p>101766 rows × 9 columns</p>\n",
       "</div>"
      ],
      "text/plain": [
       "        patient_nbr       age       T1   T2   T3   T4   T5   T6  readmitted\n",
       "3764        3355146    [0-10)  18-Down  NaN  NaN  NaN  NaN  NaN           0\n",
       "5861      114570648    [0-10)  18-Down  NaN  NaN  NaN  NaN  NaN           0\n",
       "11651      15778395    [0-10)  18-Down  NaN  NaN  NaN  NaN  NaN           0\n",
       "13190      18840807    [0-10)  18-Down  NaN  NaN  NaN  NaN  NaN           0\n",
       "13578      10799190    [0-10)  18-Down  NaN  NaN  NaN  NaN  NaN           0\n",
       "...             ...       ...      ...  ...  ...  ...  ...  ...         ...\n",
       "101452    102128841  [90-100)      NaN  NaN  NaN  NaN  NaN  NaN           0\n",
       "101582     91148022  [90-100)      NaN  NaN  NaN  NaN  NaN  NaN           1\n",
       "101694     79902171  [90-100)      NaN  NaN  NaN  NaN  NaN  NaN           0\n",
       "101696     91200537  [90-100)      NaN  NaN  NaN  NaN  NaN  NaN           0\n",
       "101741     58160520  [90-100)      NaN  NaN  NaN  NaN  NaN  NaN           0\n",
       "\n",
       "[101766 rows x 9 columns]"
      ]
     },
     "execution_count": 20,
     "metadata": {},
     "output_type": "execute_result"
    }
   ],
   "source": [
    "df_age=df_age.sort_values(by=['age',\"T1\",\"T2\",\"T3\",\"T4\",\"T5\",\"T6\"])\n",
    "df_age"
   ]
  },
  {
   "cell_type": "code",
   "execution_count": 21,
   "metadata": {},
   "outputs": [
    {
     "data": {
      "text/html": [
       "<div>\n",
       "<style scoped>\n",
       "    .dataframe tbody tr th:only-of-type {\n",
       "        vertical-align: middle;\n",
       "    }\n",
       "\n",
       "    .dataframe tbody tr th {\n",
       "        vertical-align: top;\n",
       "    }\n",
       "\n",
       "    .dataframe thead th {\n",
       "        text-align: right;\n",
       "    }\n",
       "</style>\n",
       "<table border=\"1\" class=\"dataframe\">\n",
       "  <thead>\n",
       "    <tr style=\"text-align: right;\">\n",
       "      <th></th>\n",
       "      <th>total</th>\n",
       "    </tr>\n",
       "    <tr>\n",
       "      <th>age</th>\n",
       "      <th></th>\n",
       "    </tr>\n",
       "  </thead>\n",
       "  <tbody>\n",
       "    <tr>\n",
       "      <th>[0-10)</th>\n",
       "      <td>161</td>\n",
       "    </tr>\n",
       "    <tr>\n",
       "      <th>[10-20)</th>\n",
       "      <td>691</td>\n",
       "    </tr>\n",
       "    <tr>\n",
       "      <th>[20-30)</th>\n",
       "      <td>1657</td>\n",
       "    </tr>\n",
       "    <tr>\n",
       "      <th>[30-40)</th>\n",
       "      <td>3775</td>\n",
       "    </tr>\n",
       "    <tr>\n",
       "      <th>[40-50)</th>\n",
       "      <td>9685</td>\n",
       "    </tr>\n",
       "    <tr>\n",
       "      <th>[50-60)</th>\n",
       "      <td>17256</td>\n",
       "    </tr>\n",
       "    <tr>\n",
       "      <th>[60-70)</th>\n",
       "      <td>22483</td>\n",
       "    </tr>\n",
       "    <tr>\n",
       "      <th>[70-80)</th>\n",
       "      <td>26068</td>\n",
       "    </tr>\n",
       "    <tr>\n",
       "      <th>[80-90)</th>\n",
       "      <td>17197</td>\n",
       "    </tr>\n",
       "    <tr>\n",
       "      <th>[90-100)</th>\n",
       "      <td>2793</td>\n",
       "    </tr>\n",
       "  </tbody>\n",
       "</table>\n",
       "</div>"
      ],
      "text/plain": [
       "          total\n",
       "age            \n",
       "[0-10)      161\n",
       "[10-20)     691\n",
       "[20-30)    1657\n",
       "[30-40)    3775\n",
       "[40-50)    9685\n",
       "[50-60)   17256\n",
       "[60-70)   22483\n",
       "[70-80)   26068\n",
       "[80-90)   17197\n",
       "[90-100)   2793"
      ]
     },
     "execution_count": 21,
     "metadata": {},
     "output_type": "execute_result"
    }
   ],
   "source": [
    "df_age_count_values = df_age.groupby(\"age\").count()\n",
    "df_age_count_values = df_age_count_values[[\"readmitted\"]]\n",
    "df_age_count_values = df_age_count_values.rename(columns={\"readmitted\": \"total\"})\n",
    "df_age_count_values"
   ]
  },
  {
   "cell_type": "markdown",
   "metadata": {},
   "source": [
    "Here we find the total number of patient from each age group"
   ]
  },
  {
   "cell_type": "code",
   "execution_count": 22,
   "metadata": {},
   "outputs": [
    {
     "data": {
      "text/html": [
       "<div>\n",
       "<style scoped>\n",
       "    .dataframe tbody tr th:only-of-type {\n",
       "        vertical-align: middle;\n",
       "    }\n",
       "\n",
       "    .dataframe tbody tr th {\n",
       "        vertical-align: top;\n",
       "    }\n",
       "\n",
       "    .dataframe thead th {\n",
       "        text-align: right;\n",
       "    }\n",
       "</style>\n",
       "<table border=\"1\" class=\"dataframe\">\n",
       "  <thead>\n",
       "    <tr style=\"text-align: right;\">\n",
       "      <th></th>\n",
       "      <th>readmitted</th>\n",
       "    </tr>\n",
       "    <tr>\n",
       "      <th>age</th>\n",
       "      <th></th>\n",
       "    </tr>\n",
       "  </thead>\n",
       "  <tbody>\n",
       "    <tr>\n",
       "      <th>[0-10)</th>\n",
       "      <td>3</td>\n",
       "    </tr>\n",
       "    <tr>\n",
       "      <th>[10-20)</th>\n",
       "      <td>40</td>\n",
       "    </tr>\n",
       "    <tr>\n",
       "      <th>[20-30)</th>\n",
       "      <td>236</td>\n",
       "    </tr>\n",
       "    <tr>\n",
       "      <th>[30-40)</th>\n",
       "      <td>424</td>\n",
       "    </tr>\n",
       "    <tr>\n",
       "      <th>[40-50)</th>\n",
       "      <td>1027</td>\n",
       "    </tr>\n",
       "    <tr>\n",
       "      <th>[50-60)</th>\n",
       "      <td>1668</td>\n",
       "    </tr>\n",
       "    <tr>\n",
       "      <th>[60-70)</th>\n",
       "      <td>2502</td>\n",
       "    </tr>\n",
       "    <tr>\n",
       "      <th>[70-80)</th>\n",
       "      <td>3069</td>\n",
       "    </tr>\n",
       "    <tr>\n",
       "      <th>[80-90)</th>\n",
       "      <td>2078</td>\n",
       "    </tr>\n",
       "    <tr>\n",
       "      <th>[90-100)</th>\n",
       "      <td>310</td>\n",
       "    </tr>\n",
       "  </tbody>\n",
       "</table>\n",
       "</div>"
      ],
      "text/plain": [
       "          readmitted\n",
       "age                 \n",
       "[0-10)             3\n",
       "[10-20)           40\n",
       "[20-30)          236\n",
       "[30-40)          424\n",
       "[40-50)         1027\n",
       "[50-60)         1668\n",
       "[60-70)         2502\n",
       "[70-80)         3069\n",
       "[80-90)         2078\n",
       "[90-100)         310"
      ]
     },
     "execution_count": 22,
     "metadata": {},
     "output_type": "execute_result"
    }
   ],
   "source": [
    "df_age_count_values_readmitted = df_age[df_age.readmitted == 1].groupby(\"age\").count() \n",
    "df_age_count_values_readmitted = df_age_count_values_readmitted[[\"readmitted\"]]\n",
    "df_age_count_values_readmitted"
   ]
  },
  {
   "cell_type": "markdown",
   "metadata": {},
   "source": [
    "And here we find the number of patient readmitted from each age group"
   ]
  },
  {
   "cell_type": "code",
   "execution_count": 23,
   "metadata": {},
   "outputs": [
    {
     "data": {
      "text/html": [
       "<div>\n",
       "<style scoped>\n",
       "    .dataframe tbody tr th:only-of-type {\n",
       "        vertical-align: middle;\n",
       "    }\n",
       "\n",
       "    .dataframe tbody tr th {\n",
       "        vertical-align: top;\n",
       "    }\n",
       "\n",
       "    .dataframe thead th {\n",
       "        text-align: right;\n",
       "    }\n",
       "</style>\n",
       "<table border=\"1\" class=\"dataframe\">\n",
       "  <thead>\n",
       "    <tr style=\"text-align: right;\">\n",
       "      <th></th>\n",
       "      <th>readmitted</th>\n",
       "      <th>total</th>\n",
       "    </tr>\n",
       "    <tr>\n",
       "      <th>age</th>\n",
       "      <th></th>\n",
       "      <th></th>\n",
       "    </tr>\n",
       "  </thead>\n",
       "  <tbody>\n",
       "    <tr>\n",
       "      <th>[0-10)</th>\n",
       "      <td>3</td>\n",
       "      <td>161</td>\n",
       "    </tr>\n",
       "    <tr>\n",
       "      <th>[10-20)</th>\n",
       "      <td>40</td>\n",
       "      <td>691</td>\n",
       "    </tr>\n",
       "    <tr>\n",
       "      <th>[20-30)</th>\n",
       "      <td>236</td>\n",
       "      <td>1657</td>\n",
       "    </tr>\n",
       "    <tr>\n",
       "      <th>[30-40)</th>\n",
       "      <td>424</td>\n",
       "      <td>3775</td>\n",
       "    </tr>\n",
       "    <tr>\n",
       "      <th>[40-50)</th>\n",
       "      <td>1027</td>\n",
       "      <td>9685</td>\n",
       "    </tr>\n",
       "    <tr>\n",
       "      <th>[50-60)</th>\n",
       "      <td>1668</td>\n",
       "      <td>17256</td>\n",
       "    </tr>\n",
       "    <tr>\n",
       "      <th>[60-70)</th>\n",
       "      <td>2502</td>\n",
       "      <td>22483</td>\n",
       "    </tr>\n",
       "    <tr>\n",
       "      <th>[70-80)</th>\n",
       "      <td>3069</td>\n",
       "      <td>26068</td>\n",
       "    </tr>\n",
       "    <tr>\n",
       "      <th>[80-90)</th>\n",
       "      <td>2078</td>\n",
       "      <td>17197</td>\n",
       "    </tr>\n",
       "    <tr>\n",
       "      <th>[90-100)</th>\n",
       "      <td>310</td>\n",
       "      <td>2793</td>\n",
       "    </tr>\n",
       "  </tbody>\n",
       "</table>\n",
       "</div>"
      ],
      "text/plain": [
       "          readmitted  total\n",
       "age                        \n",
       "[0-10)             3    161\n",
       "[10-20)           40    691\n",
       "[20-30)          236   1657\n",
       "[30-40)          424   3775\n",
       "[40-50)         1027   9685\n",
       "[50-60)         1668  17256\n",
       "[60-70)         2502  22483\n",
       "[70-80)         3069  26068\n",
       "[80-90)         2078  17197\n",
       "[90-100)         310   2793"
      ]
     },
     "execution_count": 23,
     "metadata": {},
     "output_type": "execute_result"
    }
   ],
   "source": [
    "df_age_readmitted = pd.concat([df_age_count_values_readmitted, df_age_count_values], axis=1)\n",
    "df_age_readmitted"
   ]
  },
  {
   "cell_type": "code",
   "execution_count": 24,
   "metadata": {},
   "outputs": [
    {
     "data": {
      "text/plain": [
       "<AxesSubplot:xlabel='age'>"
      ]
     },
     "execution_count": 24,
     "metadata": {},
     "output_type": "execute_result"
    },
    {
     "data": {
      "image/png": "[encoded data removed]",
      "text/plain": [
       "<Figure size 1080x576 with 1 Axes>"
      ]
     },
     "metadata": {
      "needs_background": "light"
     },
     "output_type": "display_data"
    }
   ],
   "source": [
    "df_age_readmitted.plot.bar(rot=0, figsize=(15, 8))"
   ]
  },
  {
   "cell_type": "markdown",
   "metadata": {},
   "source": [
    "By combining them both we managed to create this graph that compares them to allow us to see the tendency, which is that people between 40 and 90 years ols are more likely to both be diabetic and readmitted to the hospital after being hospitalized"
   ]
  },
  {
   "cell_type": "markdown",
   "metadata": {},
   "source": [
    "# Traitement ethnies\n"
   ]
  },
  {
   "cell_type": "markdown",
   "metadata": {},
   "source": [
    "Here, we decide to look at the possibility that the race could be impactful on the readmission probability"
   ]
  },
  {
   "cell_type": "code",
   "execution_count": 25,
   "metadata": {
    "scrolled": true
   },
   "outputs": [],
   "source": [
    "df_race = df2[[\"race\",\"T1\",\"T2\",\"T3\",\"T4\",\"T5\",\"T6\", \"readmitted\"]]\n",
    "df_race = df_race.sort_values(by=['race',\"T1\",\"T2\",\"T3\",\"T4\",\"T5\",\"T6\"])\n",
    "df_race = df_race.drop(df_race[df_race.race == \"\"].index)\n",
    "df_race_readmitted = df_race[df_race.readmitted == 1]"
   ]
  },
  {
   "cell_type": "code",
   "execution_count": 26,
   "metadata": {},
   "outputs": [
    {
     "data": {
      "text/html": [
       "<div>\n",
       "<style scoped>\n",
       "    .dataframe tbody tr th:only-of-type {\n",
       "        vertical-align: middle;\n",
       "    }\n",
       "\n",
       "    .dataframe tbody tr th {\n",
       "        vertical-align: top;\n",
       "    }\n",
       "\n",
       "    .dataframe thead th {\n",
       "        text-align: right;\n",
       "    }\n",
       "</style>\n",
       "<table border=\"1\" class=\"dataframe\">\n",
       "  <thead>\n",
       "    <tr style=\"text-align: right;\">\n",
       "      <th></th>\n",
       "      <th>total</th>\n",
       "    </tr>\n",
       "    <tr>\n",
       "      <th>race</th>\n",
       "      <th></th>\n",
       "    </tr>\n",
       "  </thead>\n",
       "  <tbody>\n",
       "    <tr>\n",
       "      <th>AfricanAmerican</th>\n",
       "      <td>19210</td>\n",
       "    </tr>\n",
       "    <tr>\n",
       "      <th>Asian</th>\n",
       "      <td>641</td>\n",
       "    </tr>\n",
       "    <tr>\n",
       "      <th>Caucasian</th>\n",
       "      <td>76099</td>\n",
       "    </tr>\n",
       "    <tr>\n",
       "      <th>Hispanic</th>\n",
       "      <td>2037</td>\n",
       "    </tr>\n",
       "    <tr>\n",
       "      <th>Other</th>\n",
       "      <td>1506</td>\n",
       "    </tr>\n",
       "  </tbody>\n",
       "</table>\n",
       "</div>"
      ],
      "text/plain": [
       "                 total\n",
       "race                  \n",
       "AfricanAmerican  19210\n",
       "Asian              641\n",
       "Caucasian        76099\n",
       "Hispanic          2037\n",
       "Other             1506"
      ]
     },
     "execution_count": 26,
     "metadata": {},
     "output_type": "execute_result"
    }
   ],
   "source": [
    "df_race_count_values = df_race.groupby(\"race\").count()\n",
    "df_race_count_values = df_race_count_values[[\"readmitted\"]]\n",
    "df_race_count_values = df_race_count_values.rename(columns={\"readmitted\": \"total\"})\n",
    "df_race_count_values"
   ]
  },
  {
   "cell_type": "code",
   "execution_count": 27,
   "metadata": {},
   "outputs": [
    {
     "data": {
      "text/html": [
       "<div>\n",
       "<style scoped>\n",
       "    .dataframe tbody tr th:only-of-type {\n",
       "        vertical-align: middle;\n",
       "    }\n",
       "\n",
       "    .dataframe tbody tr th {\n",
       "        vertical-align: top;\n",
       "    }\n",
       "\n",
       "    .dataframe thead th {\n",
       "        text-align: right;\n",
       "    }\n",
       "</style>\n",
       "<table border=\"1\" class=\"dataframe\">\n",
       "  <thead>\n",
       "    <tr style=\"text-align: right;\">\n",
       "      <th></th>\n",
       "      <th>readmitted</th>\n",
       "    </tr>\n",
       "    <tr>\n",
       "      <th>race</th>\n",
       "      <th></th>\n",
       "    </tr>\n",
       "  </thead>\n",
       "  <tbody>\n",
       "    <tr>\n",
       "      <th>AfricanAmerican</th>\n",
       "      <td>2155</td>\n",
       "    </tr>\n",
       "    <tr>\n",
       "      <th>Asian</th>\n",
       "      <td>65</td>\n",
       "    </tr>\n",
       "    <tr>\n",
       "      <th>Caucasian</th>\n",
       "      <td>8592</td>\n",
       "    </tr>\n",
       "    <tr>\n",
       "      <th>Hispanic</th>\n",
       "      <td>212</td>\n",
       "    </tr>\n",
       "    <tr>\n",
       "      <th>Other</th>\n",
       "      <td>145</td>\n",
       "    </tr>\n",
       "  </tbody>\n",
       "</table>\n",
       "</div>"
      ],
      "text/plain": [
       "                 readmitted\n",
       "race                       \n",
       "AfricanAmerican        2155\n",
       "Asian                    65\n",
       "Caucasian              8592\n",
       "Hispanic                212\n",
       "Other                   145"
      ]
     },
     "execution_count": 27,
     "metadata": {},
     "output_type": "execute_result"
    }
   ],
   "source": [
    "df_race_count_values_readmitted = df_race_readmitted.groupby(\"race\").count()\n",
    "df_race_count_values_readmitted = df_race_count_values_readmitted[[\"readmitted\"]]\n",
    "df_race_count_values_readmitted"
   ]
  },
  {
   "cell_type": "code",
   "execution_count": 28,
   "metadata": {},
   "outputs": [
    {
     "data": {
      "text/html": [
       "<div>\n",
       "<style scoped>\n",
       "    .dataframe tbody tr th:only-of-type {\n",
       "        vertical-align: middle;\n",
       "    }\n",
       "\n",
       "    .dataframe tbody tr th {\n",
       "        vertical-align: top;\n",
       "    }\n",
       "\n",
       "    .dataframe thead th {\n",
       "        text-align: right;\n",
       "    }\n",
       "</style>\n",
       "<table border=\"1\" class=\"dataframe\">\n",
       "  <thead>\n",
       "    <tr style=\"text-align: right;\">\n",
       "      <th></th>\n",
       "      <th>readmitted</th>\n",
       "      <th>total</th>\n",
       "    </tr>\n",
       "    <tr>\n",
       "      <th>race</th>\n",
       "      <th></th>\n",
       "      <th></th>\n",
       "    </tr>\n",
       "  </thead>\n",
       "  <tbody>\n",
       "    <tr>\n",
       "      <th>AfricanAmerican</th>\n",
       "      <td>2155</td>\n",
       "      <td>19210</td>\n",
       "    </tr>\n",
       "    <tr>\n",
       "      <th>Asian</th>\n",
       "      <td>65</td>\n",
       "      <td>641</td>\n",
       "    </tr>\n",
       "    <tr>\n",
       "      <th>Caucasian</th>\n",
       "      <td>8592</td>\n",
       "      <td>76099</td>\n",
       "    </tr>\n",
       "    <tr>\n",
       "      <th>Hispanic</th>\n",
       "      <td>212</td>\n",
       "      <td>2037</td>\n",
       "    </tr>\n",
       "    <tr>\n",
       "      <th>Other</th>\n",
       "      <td>145</td>\n",
       "      <td>1506</td>\n",
       "    </tr>\n",
       "  </tbody>\n",
       "</table>\n",
       "</div>"
      ],
      "text/plain": [
       "                 readmitted  total\n",
       "race                              \n",
       "AfricanAmerican        2155  19210\n",
       "Asian                    65    641\n",
       "Caucasian              8592  76099\n",
       "Hispanic                212   2037\n",
       "Other                   145   1506"
      ]
     },
     "execution_count": 28,
     "metadata": {},
     "output_type": "execute_result"
    }
   ],
   "source": [
    "df_race_readmitted = pd.concat([df_race_count_values_readmitted, df_race_count_values], axis=1)\n",
    "df_race_readmitted"
   ]
  },
  {
   "cell_type": "markdown",
   "metadata": {},
   "source": [
    "We find those numbers and decide to compare them through a graphic "
   ]
  },
  {
   "cell_type": "code",
   "execution_count": 29,
   "metadata": {},
   "outputs": [
    {
     "data": {
      "text/plain": [
       "<AxesSubplot:xlabel='race'>"
      ]
     },
     "execution_count": 29,
     "metadata": {},
     "output_type": "execute_result"
    },
    {
     "data": {
      "image/png": "[encoded data removed]",
      "text/plain": [
       "<Figure size 1080x576 with 1 Axes>"
      ]
     },
     "metadata": {
      "needs_background": "light"
     },
     "output_type": "display_data"
    }
   ],
   "source": [
    "df_race_readmitted.plot.bar(rot=0, figsize=(15, 8))"
   ]
  },
  {
   "cell_type": "markdown",
   "metadata": {},
   "source": [
    "As this graphic doesn't really allow us to determine anything, we decide to do somme piecharts of every single race defined"
   ]
  },
  {
   "cell_type": "code",
   "execution_count": 30,
   "metadata": {},
   "outputs": [
    {
     "data": {
      "text/plain": [
       "array([<AxesSubplot:ylabel='AfricanAmerican'>,\n",
       "       <AxesSubplot:ylabel='Asian'>, <AxesSubplot:ylabel='Caucasian'>,\n",
       "       <AxesSubplot:ylabel='Hispanic'>, <AxesSubplot:ylabel='Other'>],\n",
       "      dtype=object)"
      ]
     },
     "execution_count": 30,
     "metadata": {},
     "output_type": "execute_result"
    },
    {
     "data": {
      "image/png": "[encoded data removed]",
      "text/plain": [
       "<Figure size 1440x1440 with 5 Axes>"
      ]
     },
     "metadata": {},
     "output_type": "display_data"
    }
   ],
   "source": [
    "df_race_readmitted.transpose().plot.pie(subplots=True, figsize=(20, 20))"
   ]
  },
  {
   "cell_type": "markdown",
   "metadata": {},
   "source": [
    "Looking at those graphs, we see that the proportion of readmitted people is the same no matter the race. We can conclude that the race really doesn't matter in the possibility of someone being readmitted, so we will remove this column from the dataset"
   ]
  },
  {
   "cell_type": "code",
   "execution_count": 31,
   "metadata": {},
   "outputs": [
    {
     "data": {
      "text/html": [
       "<div>\n",
       "<style scoped>\n",
       "    .dataframe tbody tr th:only-of-type {\n",
       "        vertical-align: middle;\n",
       "    }\n",
       "\n",
       "    .dataframe tbody tr th {\n",
       "        vertical-align: top;\n",
       "    }\n",
       "\n",
       "    .dataframe thead th {\n",
       "        text-align: right;\n",
       "    }\n",
       "</style>\n",
       "<table border=\"1\" class=\"dataframe\">\n",
       "  <thead>\n",
       "    <tr style=\"text-align: right;\">\n",
       "      <th></th>\n",
       "      <th>patient_nbr</th>\n",
       "      <th>gender</th>\n",
       "      <th>age</th>\n",
       "      <th>admission_type_id</th>\n",
       "      <th>discharge_disposition_id</th>\n",
       "      <th>admission_source_id</th>\n",
       "      <th>time_in_hospital</th>\n",
       "      <th>medical_specialty</th>\n",
       "      <th>num_lab_procedures</th>\n",
       "      <th>num_procedures</th>\n",
       "      <th>...</th>\n",
       "      <th>A1Cresult</th>\n",
       "      <th>change</th>\n",
       "      <th>diabetesMed</th>\n",
       "      <th>readmitted</th>\n",
       "      <th>T1</th>\n",
       "      <th>T2</th>\n",
       "      <th>T3</th>\n",
       "      <th>T4</th>\n",
       "      <th>T5</th>\n",
       "      <th>T6</th>\n",
       "    </tr>\n",
       "  </thead>\n",
       "  <tbody>\n",
       "    <tr>\n",
       "      <th>0</th>\n",
       "      <td>8222157</td>\n",
       "      <td>Female</td>\n",
       "      <td>[0-10)</td>\n",
       "      <td>6</td>\n",
       "      <td>25</td>\n",
       "      <td>1</td>\n",
       "      <td>1</td>\n",
       "      <td>Pediatrics-Endocrinology</td>\n",
       "      <td>41</td>\n",
       "      <td>0</td>\n",
       "      <td>...</td>\n",
       "      <td>NaN</td>\n",
       "      <td>No</td>\n",
       "      <td>No</td>\n",
       "      <td>0</td>\n",
       "      <td>NaN</td>\n",
       "      <td>NaN</td>\n",
       "      <td>NaN</td>\n",
       "      <td>NaN</td>\n",
       "      <td>NaN</td>\n",
       "      <td>NaN</td>\n",
       "    </tr>\n",
       "    <tr>\n",
       "      <th>1</th>\n",
       "      <td>55629189</td>\n",
       "      <td>Female</td>\n",
       "      <td>[10-20)</td>\n",
       "      <td>1</td>\n",
       "      <td>1</td>\n",
       "      <td>7</td>\n",
       "      <td>3</td>\n",
       "      <td>NaN</td>\n",
       "      <td>59</td>\n",
       "      <td>0</td>\n",
       "      <td>...</td>\n",
       "      <td>NaN</td>\n",
       "      <td>Ch</td>\n",
       "      <td>Yes</td>\n",
       "      <td>0</td>\n",
       "      <td>18-Up</td>\n",
       "      <td>NaN</td>\n",
       "      <td>NaN</td>\n",
       "      <td>NaN</td>\n",
       "      <td>NaN</td>\n",
       "      <td>NaN</td>\n",
       "    </tr>\n",
       "    <tr>\n",
       "      <th>2</th>\n",
       "      <td>86047875</td>\n",
       "      <td>Female</td>\n",
       "      <td>[20-30)</td>\n",
       "      <td>1</td>\n",
       "      <td>1</td>\n",
       "      <td>7</td>\n",
       "      <td>2</td>\n",
       "      <td>NaN</td>\n",
       "      <td>11</td>\n",
       "      <td>5</td>\n",
       "      <td>...</td>\n",
       "      <td>NaN</td>\n",
       "      <td>No</td>\n",
       "      <td>Yes</td>\n",
       "      <td>0</td>\n",
       "      <td>7-Steady</td>\n",
       "      <td>NaN</td>\n",
       "      <td>NaN</td>\n",
       "      <td>NaN</td>\n",
       "      <td>NaN</td>\n",
       "      <td>NaN</td>\n",
       "    </tr>\n",
       "    <tr>\n",
       "      <th>3</th>\n",
       "      <td>82442376</td>\n",
       "      <td>Male</td>\n",
       "      <td>[30-40)</td>\n",
       "      <td>1</td>\n",
       "      <td>1</td>\n",
       "      <td>7</td>\n",
       "      <td>2</td>\n",
       "      <td>NaN</td>\n",
       "      <td>44</td>\n",
       "      <td>1</td>\n",
       "      <td>...</td>\n",
       "      <td>NaN</td>\n",
       "      <td>Ch</td>\n",
       "      <td>Yes</td>\n",
       "      <td>0</td>\n",
       "      <td>18-Up</td>\n",
       "      <td>NaN</td>\n",
       "      <td>NaN</td>\n",
       "      <td>NaN</td>\n",
       "      <td>NaN</td>\n",
       "      <td>NaN</td>\n",
       "    </tr>\n",
       "    <tr>\n",
       "      <th>4</th>\n",
       "      <td>42519267</td>\n",
       "      <td>Male</td>\n",
       "      <td>[40-50)</td>\n",
       "      <td>1</td>\n",
       "      <td>1</td>\n",
       "      <td>7</td>\n",
       "      <td>1</td>\n",
       "      <td>NaN</td>\n",
       "      <td>51</td>\n",
       "      <td>0</td>\n",
       "      <td>...</td>\n",
       "      <td>NaN</td>\n",
       "      <td>Ch</td>\n",
       "      <td>Yes</td>\n",
       "      <td>0</td>\n",
       "      <td>7-Steady</td>\n",
       "      <td>18-Steady</td>\n",
       "      <td>NaN</td>\n",
       "      <td>NaN</td>\n",
       "      <td>NaN</td>\n",
       "      <td>NaN</td>\n",
       "    </tr>\n",
       "    <tr>\n",
       "      <th>...</th>\n",
       "      <td>...</td>\n",
       "      <td>...</td>\n",
       "      <td>...</td>\n",
       "      <td>...</td>\n",
       "      <td>...</td>\n",
       "      <td>...</td>\n",
       "      <td>...</td>\n",
       "      <td>...</td>\n",
       "      <td>...</td>\n",
       "      <td>...</td>\n",
       "      <td>...</td>\n",
       "      <td>...</td>\n",
       "      <td>...</td>\n",
       "      <td>...</td>\n",
       "      <td>...</td>\n",
       "      <td>...</td>\n",
       "      <td>...</td>\n",
       "      <td>...</td>\n",
       "      <td>...</td>\n",
       "      <td>...</td>\n",
       "      <td>...</td>\n",
       "    </tr>\n",
       "    <tr>\n",
       "      <th>101761</th>\n",
       "      <td>100162476</td>\n",
       "      <td>Male</td>\n",
       "      <td>[70-80)</td>\n",
       "      <td>1</td>\n",
       "      <td>3</td>\n",
       "      <td>7</td>\n",
       "      <td>3</td>\n",
       "      <td>NaN</td>\n",
       "      <td>51</td>\n",
       "      <td>0</td>\n",
       "      <td>...</td>\n",
       "      <td>&gt;8</td>\n",
       "      <td>Ch</td>\n",
       "      <td>Yes</td>\n",
       "      <td>0</td>\n",
       "      <td>1-Steady</td>\n",
       "      <td>18-Down</td>\n",
       "      <td>NaN</td>\n",
       "      <td>NaN</td>\n",
       "      <td>NaN</td>\n",
       "      <td>NaN</td>\n",
       "    </tr>\n",
       "    <tr>\n",
       "      <th>101762</th>\n",
       "      <td>74694222</td>\n",
       "      <td>Female</td>\n",
       "      <td>[80-90)</td>\n",
       "      <td>1</td>\n",
       "      <td>4</td>\n",
       "      <td>5</td>\n",
       "      <td>5</td>\n",
       "      <td>NaN</td>\n",
       "      <td>33</td>\n",
       "      <td>3</td>\n",
       "      <td>...</td>\n",
       "      <td>NaN</td>\n",
       "      <td>No</td>\n",
       "      <td>Yes</td>\n",
       "      <td>0</td>\n",
       "      <td>18-Steady</td>\n",
       "      <td>NaN</td>\n",
       "      <td>NaN</td>\n",
       "      <td>NaN</td>\n",
       "      <td>NaN</td>\n",
       "      <td>NaN</td>\n",
       "    </tr>\n",
       "    <tr>\n",
       "      <th>101763</th>\n",
       "      <td>41088789</td>\n",
       "      <td>Male</td>\n",
       "      <td>[70-80)</td>\n",
       "      <td>1</td>\n",
       "      <td>1</td>\n",
       "      <td>7</td>\n",
       "      <td>1</td>\n",
       "      <td>NaN</td>\n",
       "      <td>53</td>\n",
       "      <td>0</td>\n",
       "      <td>...</td>\n",
       "      <td>NaN</td>\n",
       "      <td>Ch</td>\n",
       "      <td>Yes</td>\n",
       "      <td>0</td>\n",
       "      <td>1-Steady</td>\n",
       "      <td>18-Down</td>\n",
       "      <td>NaN</td>\n",
       "      <td>NaN</td>\n",
       "      <td>NaN</td>\n",
       "      <td>NaN</td>\n",
       "    </tr>\n",
       "    <tr>\n",
       "      <th>101764</th>\n",
       "      <td>31693671</td>\n",
       "      <td>Female</td>\n",
       "      <td>[80-90)</td>\n",
       "      <td>2</td>\n",
       "      <td>3</td>\n",
       "      <td>7</td>\n",
       "      <td>10</td>\n",
       "      <td>Surgery-General</td>\n",
       "      <td>45</td>\n",
       "      <td>2</td>\n",
       "      <td>...</td>\n",
       "      <td>NaN</td>\n",
       "      <td>Ch</td>\n",
       "      <td>Yes</td>\n",
       "      <td>0</td>\n",
       "      <td>7-Steady</td>\n",
       "      <td>10-Steady</td>\n",
       "      <td>18-Up</td>\n",
       "      <td>NaN</td>\n",
       "      <td>NaN</td>\n",
       "      <td>NaN</td>\n",
       "    </tr>\n",
       "    <tr>\n",
       "      <th>101765</th>\n",
       "      <td>175429310</td>\n",
       "      <td>Male</td>\n",
       "      <td>[70-80)</td>\n",
       "      <td>1</td>\n",
       "      <td>1</td>\n",
       "      <td>7</td>\n",
       "      <td>6</td>\n",
       "      <td>NaN</td>\n",
       "      <td>13</td>\n",
       "      <td>3</td>\n",
       "      <td>...</td>\n",
       "      <td>NaN</td>\n",
       "      <td>No</td>\n",
       "      <td>No</td>\n",
       "      <td>0</td>\n",
       "      <td>NaN</td>\n",
       "      <td>NaN</td>\n",
       "      <td>NaN</td>\n",
       "      <td>NaN</td>\n",
       "      <td>NaN</td>\n",
       "      <td>NaN</td>\n",
       "    </tr>\n",
       "  </tbody>\n",
       "</table>\n",
       "<p>101766 rows × 28 columns</p>\n",
       "</div>"
      ],
      "text/plain": [
       "        patient_nbr  gender      age  admission_type_id  \\\n",
       "0           8222157  Female   [0-10)                  6   \n",
       "1          55629189  Female  [10-20)                  1   \n",
       "2          86047875  Female  [20-30)                  1   \n",
       "3          82442376    Male  [30-40)                  1   \n",
       "4          42519267    Male  [40-50)                  1   \n",
       "...             ...     ...      ...                ...   \n",
       "101761    100162476    Male  [70-80)                  1   \n",
       "101762     74694222  Female  [80-90)                  1   \n",
       "101763     41088789    Male  [70-80)                  1   \n",
       "101764     31693671  Female  [80-90)                  2   \n",
       "101765    175429310    Male  [70-80)                  1   \n",
       "\n",
       "        discharge_disposition_id  admission_source_id  time_in_hospital  \\\n",
       "0                             25                    1                 1   \n",
       "1                              1                    7                 3   \n",
       "2                              1                    7                 2   \n",
       "3                              1                    7                 2   \n",
       "4                              1                    7                 1   \n",
       "...                          ...                  ...               ...   \n",
       "101761                         3                    7                 3   \n",
       "101762                         4                    5                 5   \n",
       "101763                         1                    7                 1   \n",
       "101764                         3                    7                10   \n",
       "101765                         1                    7                 6   \n",
       "\n",
       "               medical_specialty  num_lab_procedures  num_procedures  ...  \\\n",
       "0       Pediatrics-Endocrinology                  41               0  ...   \n",
       "1                            NaN                  59               0  ...   \n",
       "2                            NaN                  11               5  ...   \n",
       "3                            NaN                  44               1  ...   \n",
       "4                            NaN                  51               0  ...   \n",
       "...                          ...                 ...             ...  ...   \n",
       "101761                       NaN                  51               0  ...   \n",
       "101762                       NaN                  33               3  ...   \n",
       "101763                       NaN                  53               0  ...   \n",
       "101764           Surgery-General                  45               2  ...   \n",
       "101765                       NaN                  13               3  ...   \n",
       "\n",
       "        A1Cresult  change  diabetesMed  readmitted         T1         T2  \\\n",
       "0             NaN      No           No           0        NaN        NaN   \n",
       "1             NaN      Ch          Yes           0      18-Up        NaN   \n",
       "2             NaN      No          Yes           0   7-Steady        NaN   \n",
       "3             NaN      Ch          Yes           0      18-Up        NaN   \n",
       "4             NaN      Ch          Yes           0   7-Steady  18-Steady   \n",
       "...           ...     ...          ...         ...        ...        ...   \n",
       "101761         >8      Ch          Yes           0   1-Steady    18-Down   \n",
       "101762        NaN      No          Yes           0  18-Steady        NaN   \n",
       "101763        NaN      Ch          Yes           0   1-Steady    18-Down   \n",
       "101764        NaN      Ch          Yes           0   7-Steady  10-Steady   \n",
       "101765        NaN      No           No           0        NaN        NaN   \n",
       "\n",
       "           T3   T4   T5   T6  \n",
       "0         NaN  NaN  NaN  NaN  \n",
       "1         NaN  NaN  NaN  NaN  \n",
       "2         NaN  NaN  NaN  NaN  \n",
       "3         NaN  NaN  NaN  NaN  \n",
       "4         NaN  NaN  NaN  NaN  \n",
       "...       ...  ...  ...  ...  \n",
       "101761    NaN  NaN  NaN  NaN  \n",
       "101762    NaN  NaN  NaN  NaN  \n",
       "101763    NaN  NaN  NaN  NaN  \n",
       "101764  18-Up  NaN  NaN  NaN  \n",
       "101765    NaN  NaN  NaN  NaN  \n",
       "\n",
       "[101766 rows x 28 columns]"
      ]
     },
     "execution_count": 31,
     "metadata": {},
     "output_type": "execute_result"
    }
   ],
   "source": [
    "df2 = df2.drop(columns=[\"race\"])\n",
    "df2"
   ]
  },
  {
   "cell_type": "code",
   "execution_count": 32,
   "metadata": {},
   "outputs": [],
   "source": [
    "df2.to_csv(\"Backend/dataset/diabetic_data_filtered.csv\")"
   ]
  },
  {
   "cell_type": "markdown",
   "metadata": {},
   "source": [
    "# Modelisation"
   ]
  },
  {
   "cell_type": "markdown",
   "metadata": {},
   "source": [
    "# Pre-processing"
   ]
  },
  {
   "cell_type": "markdown",
   "metadata": {},
   "source": [
    "We are looking to try to use our dataset to create prediction model as precise as possible. We need to start by modifying the dataset so every string column is changed into a float value, as the models do not care for string at all"
   ]
  },
  {
   "cell_type": "code",
   "execution_count": 33,
   "metadata": {
    "scrolled": false
   },
   "outputs": [],
   "source": [
    "def unique_map(dataframe: pd.DataFrame, col: str):\n",
    "    Tn = [\"T1\", \"T2\", \"T3\", \"T4\", \"T5\", \"T6\"]\n",
    "    if col in treatments:\n",
    "        values = ['No', 'Steady', 'Down', 'Up']\n",
    "    elif col in ['diag_1','diag_2','diag_3']:\n",
    "        values = list(set(df['diag_1'].unique().astype(\"str\").tolist() + df['diag_2'].unique().astype(\"str\").tolist() + df['diag_3'].unique().astype(\"str\").tolist()))\n",
    "        values.sort()\n",
    "    elif col in Tn:\n",
    "        values = []\n",
    "        for T in Tn:\n",
    "            values += df[T].unique().astype(\"str\").tolist()\n",
    "        values = list(set(values))\n",
    "        values.sort()\n",
    "    else:\n",
    "        values = dataframe[col].unique().astype(\"str\").tolist()\n",
    "        values.sort()\n",
    "    for val in values:\n",
    "        dataframe[col] = dataframe[col].replace(val, values.index(val))\n",
    "    return values\n",
    "\n",
    "dic = {}\n",
    "df1 = df.copy()\n",
    "cols = [\"gender\", \"age\", \"medical_specialty\", \"A1Cresult\", 'change', 'diabetesMed','diag_1','diag_2','diag_3'] + treatments\n",
    "for col in cols:\n",
    "    val = unique_map(df1, col)\n",
    "    dic[col] = val\n",
    "\n",
    "joblib.dump(dic, \"Backend/dic.joblib\")\n",
    "df1 = df1.drop(columns=[\"race\", \"patient_nbr\"])\n",
    "df1 = df1.replace(np.nan, -1)"
   ]
  },
  {
   "cell_type": "markdown",
   "metadata": {},
   "source": [
    "In order to achieve a prediction, we changed the qualitative variables to pseudo-quantitative variables by giving them all a number, thus, every column used for a prediction is a number and can be exploited"
   ]
  },
  {
   "cell_type": "markdown",
   "metadata": {},
   "source": [
    "We start by trying to apply a RandomForest to our dataset after creating our train and test sets"
   ]
  },
  {
   "cell_type": "code",
   "execution_count": 34,
   "metadata": {},
   "outputs": [],
   "source": [
    "df1 = df1.replace(np.nan, \"None\")\n",
    "X = df1.drop(columns=[\"readmitted\"])\n",
    "Y = df1[['readmitted']]"
   ]
  },
  {
   "cell_type": "code",
   "execution_count": 35,
   "metadata": {},
   "outputs": [],
   "source": [
    "from sklearn.model_selection import train_test_split\n",
    "X_train, X_test, Y_train, Y_test = train_test_split(X,Y)"
   ]
  },
  {
   "cell_type": "markdown",
   "metadata": {},
   "source": [
    "RandomForest"
   ]
  },
  {
   "cell_type": "code",
   "execution_count": 36,
   "metadata": {},
   "outputs": [
    {
     "name": "stderr",
     "output_type": "stream",
     "text": [
      "C:\\Users\\raph1\\AppData\\Local\\Temp/ipykernel_30040/1400665421.py:3: DataConversionWarning: A column-vector y was passed when a 1d array was expected. Please change the shape of y to (n_samples,), for example using ravel().\n",
      "  model1.fit(X_train, Y_train)\n"
     ]
    }
   ],
   "source": [
    "from sklearn.ensemble import RandomForestClassifier\n",
    "model1 = RandomForestClassifier()\n",
    "model1.fit(X_train, Y_train)\n",
    "Y_pred = model1.predict(X_test)"
   ]
  },
  {
   "cell_type": "code",
   "execution_count": 37,
   "metadata": {},
   "outputs": [
    {
     "data": {
      "text/plain": [
       "0.8882163351937741"
      ]
     },
     "execution_count": 37,
     "metadata": {},
     "output_type": "execute_result"
    }
   ],
   "source": [
    "from sklearn.metrics import accuracy_score\n",
    "accuracy_score(Y_test, Y_pred)"
   ]
  },
  {
   "cell_type": "code",
   "execution_count": 38,
   "metadata": {},
   "outputs": [
    {
     "data": {
      "text/plain": [
       "['Backend/models/RandomForest.joblib']"
      ]
     },
     "execution_count": 38,
     "metadata": {},
     "output_type": "execute_result"
    }
   ],
   "source": [
    "joblib.dump(model1, \"Backend/models/RandomForest.joblib\")"
   ]
  },
  {
   "cell_type": "markdown",
   "metadata": {},
   "source": [
    "We get an accuracy of 88,82% which seems acceptable.\n",
    "We then try a decision tree"
   ]
  },
  {
   "cell_type": "markdown",
   "metadata": {},
   "source": [
    "Decision Tree"
   ]
  },
  {
   "cell_type": "code",
   "execution_count": 39,
   "metadata": {},
   "outputs": [],
   "source": [
    "from sklearn import tree\n",
    "model2 = tree.DecisionTreeClassifier()\n",
    "model2.fit(X_train, Y_train)\n",
    "Y_tree = model2.predict(X_test)"
   ]
  },
  {
   "cell_type": "code",
   "execution_count": 40,
   "metadata": {},
   "outputs": [
    {
     "data": {
      "text/plain": [
       "0.796556874459555"
      ]
     },
     "execution_count": 40,
     "metadata": {},
     "output_type": "execute_result"
    }
   ],
   "source": [
    "accuracy_score(Y_test, Y_tree)"
   ]
  },
  {
   "cell_type": "code",
   "execution_count": 41,
   "metadata": {},
   "outputs": [
    {
     "data": {
      "text/plain": [
       "['Backend/models/DecisionTree.joblib']"
      ]
     },
     "execution_count": 41,
     "metadata": {},
     "output_type": "execute_result"
    }
   ],
   "source": [
    "joblib.dump(model2, \"Backend/models/DecisionTree.joblib\")"
   ]
  },
  {
   "cell_type": "markdown",
   "metadata": {},
   "source": [
    "We got a 79,66% accuracy whic is worse than the RF"
   ]
  },
  {
   "cell_type": "markdown",
   "metadata": {},
   "source": [
    "KNN classifier"
   ]
  },
  {
   "cell_type": "code",
   "execution_count": 42,
   "metadata": {},
   "outputs": [
    {
     "name": "stderr",
     "output_type": "stream",
     "text": [
      "C:\\Users\\raph1\\AppData\\Local\\Programs\\Python\\Python310\\lib\\site-packages\\sklearn\\neighbors\\_classification.py:198: DataConversionWarning: A column-vector y was passed when a 1d array was expected. Please change the shape of y to (n_samples,), for example using ravel().\n",
      "  return self._fit(X, y)\n"
     ]
    }
   ],
   "source": [
    "from sklearn.neighbors import KNeighborsClassifier\n",
    "modelKNN = KNeighborsClassifier()\n",
    "modelKNN.fit(X_train, Y_train)\n",
    "Y_KNN = modelKNN.predict(X_test)"
   ]
  },
  {
   "cell_type": "code",
   "execution_count": 43,
   "metadata": {},
   "outputs": [
    {
     "data": {
      "text/plain": [
       "0.8778397924691455"
      ]
     },
     "execution_count": 43,
     "metadata": {},
     "output_type": "execute_result"
    }
   ],
   "source": [
    "accuracy_score(Y_test, Y_KNN)"
   ]
  },
  {
   "cell_type": "code",
   "execution_count": 44,
   "metadata": {},
   "outputs": [
    {
     "data": {
      "text/plain": [
       "['Backend/models/KNN.joblib']"
      ]
     },
     "execution_count": 44,
     "metadata": {},
     "output_type": "execute_result"
    }
   ],
   "source": [
    "joblib.dump(modelKNN, \"Backend/models/KNN.joblib\")"
   ]
  },
  {
   "cell_type": "markdown",
   "metadata": {},
   "source": [
    "The accuracy of 87,78% is almost as goo as the RF"
   ]
  },
  {
   "cell_type": "markdown",
   "metadata": {},
   "source": [
    "Support Vector"
   ]
  },
  {
   "cell_type": "code",
   "execution_count": 45,
   "metadata": {},
   "outputs": [
    {
     "name": "stderr",
     "output_type": "stream",
     "text": [
      "C:\\Users\\raph1\\AppData\\Local\\Programs\\Python\\Python310\\lib\\site-packages\\sklearn\\utils\\validation.py:993: DataConversionWarning: A column-vector y was passed when a 1d array was expected. Please change the shape of y to (n_samples, ), for example using ravel().\n",
      "  y = column_or_1d(y, warn=True)\n"
     ]
    }
   ],
   "source": [
    "from sklearn.svm import SVC\n",
    "modelSVM = SVC()\n",
    "modelSVM.fit(X_train, Y_train)\n",
    "Y_SVM = modelSVM.predict(X_test)"
   ]
  },
  {
   "cell_type": "code",
   "execution_count": 46,
   "metadata": {},
   "outputs": [
    {
     "data": {
      "text/plain": [
       "0.8881377250216178"
      ]
     },
     "execution_count": 46,
     "metadata": {},
     "output_type": "execute_result"
    }
   ],
   "source": [
    "accuracy_score(Y_test, Y_SVM)"
   ]
  },
  {
   "cell_type": "code",
   "execution_count": 106,
   "metadata": {},
   "outputs": [
    {
     "data": {
      "text/plain": [
       "['Backend/models/SupportVector.joblib']"
      ]
     },
     "execution_count": 106,
     "metadata": {},
     "output_type": "execute_result"
    }
   ],
   "source": [
    "joblib.dump(modelSVM, \"Backend/models/SupportVector.joblib\")"
   ]
  },
  {
   "cell_type": "markdown",
   "metadata": {},
   "source": [
    "We got our best result yet with a 88,81% accuracy"
   ]
  },
  {
   "cell_type": "markdown",
   "metadata": {},
   "source": [
    "Grid Search"
   ]
  },
  {
   "cell_type": "code",
   "execution_count": 52,
   "metadata": {},
   "outputs": [
    {
     "name": "stdout",
     "output_type": "stream",
     "text": [
      "Fitting 5 folds for each of 2 candidates, totalling 10 fits\n"
     ]
    }
   ],
   "source": [
    "from sklearn.model_selection import GridSearchCV\n",
    "param_grid = [\n",
    "  {'C': [1, 10], 'kernel': ['linear']}\n",
    " ]\n",
    " #{'C': [1, 10, 100, 1000], 'gamma': [0.001, 0.0001], 'kernel': ['rbf']},\n",
    "grid = GridSearchCV(SVC(), param_grid, scoring='accuracy', n_jobs=-1, verbose=3)\n",
    "grid.fit(X_train, Y_train)\n",
    "print (grid.best_score_, grid.best_estimator_)"
   ]
  },
  {
   "cell_type": "code",
   "execution_count": null,
   "metadata": {},
   "outputs": [],
   "source": [
    "parameters = {\n",
    "    \"n_estimators\" : [10, 100, 500],\n",
    "    \"min_samples_leaf\": [  3,   1,   7 ],\n",
    "    \"criterion\" : ['giny', 'entropy']\n",
    "}\n",
    "grid_RF = GridSearchCV(RandomForestClassifier(), parameters, scoring='accuracy', n_jobs=-1)\n",
    "grid.fit(X_train, Y_train)\n",
    "print (grid.best_score_, grid.best_estimator_)"
   ]
  },
  {
   "cell_type": "markdown",
   "metadata": {},
   "source": [
    "The grid search wasn't succesful because it took way too long to compute"
   ]
  }
 ],
 "metadata": {
  "interpreter": {
   "hash": "cba2df4e100ae37eaafc234217a7c42181bb3d322e23f0043cc833a3b5a80b20"
  },
  "kernelspec": {
   "display_name": "Python 3",
   "language": "python",
   "name": "python3"
  },
  "language_info": {
   "codemirror_mode": {
    "name": "ipython",
    "version": 3
   },
   "file_extension": ".py",
   "mimetype": "text/x-python",
   "name": "python",
   "nbconvert_exporter": "python",
   "pygments_lexer": "ipython3",
   "version": "3.10.0"
  }
 },
 "nbformat": 4,
 "nbformat_minor": 2
}
